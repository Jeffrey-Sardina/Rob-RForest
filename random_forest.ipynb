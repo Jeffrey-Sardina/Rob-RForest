{
 "cells": [
  {
   "cell_type": "markdown",
   "id": "f7661e9c-d374-4de6-8fb7-dd397e02f837",
   "metadata": {},
   "source": [
    "# Hierarchical Regression\n",
    "This notebook applies random forests as regressors to do Geology things!"
   ]
  },
  {
   "cell_type": "code",
   "execution_count": 126,
   "id": "9a60a5af-b263-4445-b472-2bceeaf2ffdc",
   "metadata": {},
   "outputs": [],
   "source": [
    "import pandas as pd\n",
    "import numpy as np\n",
    "from sklearn.utils import shuffle\n",
    "from sklearn.model_selection import train_test_split, KFold\n",
    "from sklearn.ensemble import RandomForestRegressor\n",
    "from sklearn.metrics import mean_squared_error, r2_score\n",
    "import matplotlib.pyplot as plt\n",
    "from sklearn.preprocessing import OneHotEncoder"
   ]
  },
  {
   "cell_type": "markdown",
   "id": "7182ce5e-08d5-4658-bcdb-5d7ec826dce4",
   "metadata": {},
   "source": [
    "## Base Functions\n",
    "These are the basic functions used the implement that actual learning"
   ]
  },
  {
   "cell_type": "code",
   "execution_count": 127,
   "id": "d35071a1-e19a-4d81-aaa2-cac0d4b87747",
   "metadata": {},
   "outputs": [],
   "source": [
    "def load_data(data_file, cols_to_use, target, categorical_cols = [],\n",
    "    test_ratio = 0.2, normalisation=\"none\"):\n",
    "    # https://scikit-learn.org/stable/modules/generated/sklearn.preprocessing.OneHotEncoder.html\n",
    "    df = pd.read_csv(data_file, header=0)\n",
    "\n",
    "    # keep only the columns in cols_to_use\n",
    "    keep = cols_to_use + [target]\n",
    "    df = df[keep]\n",
    "\n",
    "    # separate target and data\n",
    "    y = df[target]\n",
    "    del df[target]\n",
    "    X = df\n",
    "\n",
    "    # one-hot code categorical variables\n",
    "    numeric_columns = cols_to_use - categorical_cols\n",
    "    X_num = X[numeric_columns]\n",
    "    enc = OneHotEncoder(handle_unknown='ignore')\n",
    "    X_cat = enc.fit_transform(X[categorical_cols])\n",
    "    X = pd.concat([X_num, X_cat])\n",
    "\n",
    "    # Make a train-test split\n",
    "    X, y = shuffle(X, y, random_state=42)\n",
    "    X_train, X_test, y_train, y_test = train_test_split(X, y, test_size=test_ratio)\n",
    "\n",
    "    # Normalise data\n",
    "    if normalisation == \"minmax\":\n",
    "        norm_func_train = lambda x: (x - X_train[numeric_columns].min()) / (X_train[numeric_columns].max() - X_train[numeric_columns].min())\n",
    "        norm_func_test = lambda x: (x - X_test[numeric_columns].min()) / (X_test[numeric_columns].max() - X_test[numeric_columns].min())\n",
    "    elif normalisation == \"zscore\":\n",
    "        norm_func_train = lambda x: (x - X_train[numeric_columns].mean()) / X_train[numeric_columns].std()\n",
    "        norm_func_test = lambda x: (x - X_test[numeric_columns].mean()) / X_test[numeric_columns].std()\n",
    "    elif normalisation == \"none\":\n",
    "        norm_func_train = lambda x: x\n",
    "        norm_func_test = lambda x: x\n",
    "    else:\n",
    "        raise ValueError(\"invalid normalisation: \" + normalisation)\n",
    "\n",
    "    X_train = norm_func_train(X_train)\n",
    "    X_test = norm_func_test(X_test)\n",
    "\n",
    "    return X_train, X_test, y_train, y_test, X, y\n",
    "\n",
    "def cross_validate_depth(values, fold, X, y, **kwargs):\n",
    "    X = X.to_numpy()\n",
    "    y = y.to_numpy()\n",
    "    kf = KFold(n_splits=fold, shuffle=True)\n",
    "    mean_errors = np.array([])\n",
    "    std_errors = np.array([])\n",
    "\n",
    "    for value in values:\n",
    "        model = RandomForestRegressor(max_depth=value, **kwargs).fit(X, y)\n",
    "        MSEs = np.array([])\n",
    "        for train, test in kf.split(X):\n",
    "            model.fit(X[train], y[train])\n",
    "            ypred = model.predict(X[test])\n",
    "            MSEs = np.append(MSEs, mean_squared_error(y[test], ypred))\n",
    "            \n",
    "        # MSEs = np.array(MSEs)\n",
    "        mean_errors = np.append(mean_errors, MSEs.mean())\n",
    "        std_errors = np.append(std_errors, MSEs.std())\n",
    "\n",
    "    return mean_errors, std_errors\n",
    "\n",
    "def plot_cross_validation(values, value_name, mean_errors, std_errors, title):\n",
    "    '''\n",
    "    Creates a plot of the data from cross-=validation, with error bars\n",
    "    '''\n",
    "    plt.rc('font', size=18)\n",
    "    plt.rcParams['figure.constrained_layout.use'] = True\n",
    "    plt.errorbar(values, mean_errors, yerr=std_errors, linewidth=1)\n",
    "    plt.xlabel(value_name)\n",
    "    plt.ylabel('Mean square error')\n",
    "    plt.title(title)\n",
    "    plt.savefig(title + '.png')\n",
    "    plt.show()\n",
    "    plt.clf()\n"
   ]
  },
  {
   "cell_type": "markdown",
   "id": "1f27a9e4",
   "metadata": {},
   "source": [
    "## Make a Random Forest"
   ]
  },
  {
   "cell_type": "code",
   "execution_count": 128,
   "id": "8b495da4",
   "metadata": {},
   "outputs": [],
   "source": [
    "#Load data\n",
    "src_file = \"data.csv\"\n",
    "cols_to_use = [\"S\", \"Fe\", \"Zr\"]\n",
    "target = \"sevenhundred\"\n",
    "test_ratio = 0.2\n",
    "normalisation = \"zscore\"\n",
    "X_train, X_test, y_train, y_test, X, y = load_data(src_file, cols_to_use, target, test_ratio, normalisation)\n",
    "\n",
    "def regress(use_interactions=False, **kwargs):\n",
    "    # https://scikit-learn.org/stable/modules/generated/sklearn.tree.DecisionTreeRegressor.html\n",
    "    model = RandomForestRegressor( # squared_error in the docs (similarly, mae for absolute_error\n",
    "        **kwargs\n",
    "        ).fit(X_train, y_train)\n",
    "\n",
    "    r2 = r2_score(y_test, model.predict(X_test))\n",
    "    mse = mean_squared_error(y_test, model.predict(X_test))\n",
    "    print(\"r2 (test) -- reference this\", r2)\n",
    "    print(\"mse (test) -- reference this\", mse)\n",
    "    print()\n",
    "\n",
    "    r2_train = r2_score(y_train, model.predict(X_train))\n",
    "    mse_train = mean_squared_error(y_train, model.predict(X_train))\n",
    "    print(\"r2 (train) -- do not use\", r2_train)\n",
    "    print(\"mse (train) -- do not use\", mse_train)\n",
    "    \n",
    "    return model\n"
   ]
  },
  {
   "cell_type": "code",
   "execution_count": 129,
   "id": "0d2cece8",
   "metadata": {},
   "outputs": [
    {
     "data": {
      "image/png": "[encoded data removed]",
      "text/plain": [
       "<Figure size 432x288 with 1 Axes>"
      ]
     },
     "metadata": {
      "needs_background": "light"
     },
     "output_type": "display_data"
    },
    {
     "data": {
      "text/plain": [
       "<Figure size 432x288 with 0 Axes>"
      ]
     },
     "metadata": {},
     "output_type": "display_data"
    }
   ],
   "source": [
    "depths = [1,2,4,8,16,32,64,128]\n",
    "fold = 10\n",
    "mean_errors, std_errors = cross_validate_depth(depths, fold, X, y, criterion=\"mse\")\n",
    "plot_cross_validation(depths, \"depth\", mean_errors, std_errors, \"depth cross validation, k=\" + str(fold))\n"
   ]
  },
  {
   "cell_type": "code",
   "execution_count": 130,
   "id": "d58d152b",
   "metadata": {},
   "outputs": [
    {
     "name": "stdout",
     "output_type": "stream",
     "text": [
      "r2 (test) -- reference this 0.18372197885808128\n",
      "mse (test) -- reference this 233.65642916096633\n",
      "\n",
      "r2 (train) -- do not use 0.7636393077692585\n",
      "mse (train) -- do not use 66.06009269084745\n"
     ]
    },
    {
     "data": {
      "text/plain": [
       "RandomForestRegressor(max_depth=8)"
      ]
     },
     "execution_count": 130,
     "metadata": {},
     "output_type": "execute_result"
    }
   ],
   "source": [
    "regress(criterion=\"mse\", max_depth=8)"
   ]
  },
  {
   "cell_type": "code",
   "execution_count": null,
   "id": "300e2077",
   "metadata": {},
   "outputs": [],
   "source": []
  }
 ],
 "metadata": {
  "kernelspec": {
   "display_name": "Python 3.8.6 64-bit",
   "language": "python",
   "name": "python3"
  },
  "language_info": {
   "codemirror_mode": {
    "name": "ipython",
    "version": 3
   },
   "file_extension": ".py",
   "mimetype": "text/x-python",
   "name": "python",
   "nbconvert_exporter": "python",
   "pygments_lexer": "ipython3",
   "version": "3.8.6"
  },
  "vscode": {
   "interpreter": {
    "hash": "0a0f60a2ada18c63bb7dba45b1f78304e02ff89d19a13aa570f76a0bf1a38877"
   }
  }
 },
 "nbformat": 4,
 "nbformat_minor": 5
}
